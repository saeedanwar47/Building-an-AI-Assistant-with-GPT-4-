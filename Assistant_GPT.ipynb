{
  "cells": [
    {
      "cell_type": "code",
      "execution_count": 16,
      "metadata": {
        "colab": {
          "base_uri": "https://localhost:8080/"
        },
        "id": "qyF1XYGgz0IU",
        "outputId": "b67b791c-6701-431d-d648-931e56dcb375"
      },
      "outputs": [
        {
          "name": "stdout",
          "output_type": "stream",
          "text": [
            "Requirement already satisfied: openai in c:\\users\\hp\\anaconda3\\lib\\site-packages (1.12.0)\n",
            "Requirement already satisfied: anyio<5,>=3.5.0 in c:\\users\\hp\\appdata\\roaming\\python\\python311\\site-packages (from openai) (3.6.2)\n",
            "Requirement already satisfied: distro<2,>=1.7.0 in c:\\users\\hp\\anaconda3\\lib\\site-packages (from openai) (1.9.0)\n",
            "Requirement already satisfied: httpx<1,>=0.23.0 in c:\\users\\hp\\anaconda3\\lib\\site-packages (from openai) (0.26.0)\n",
            "Requirement already satisfied: pydantic<3,>=1.9.0 in c:\\users\\hp\\anaconda3\\lib\\site-packages (from openai) (1.10.8)\n",
            "Requirement already satisfied: sniffio in c:\\users\\hp\\appdata\\roaming\\python\\python311\\site-packages (from openai) (1.3.0)\n",
            "Requirement already satisfied: tqdm>4 in c:\\users\\hp\\appdata\\roaming\\python\\python311\\site-packages (from openai) (4.66.1)\n",
            "Requirement already satisfied: typing-extensions<5,>=4.7 in c:\\users\\hp\\anaconda3\\lib\\site-packages (from openai) (4.7.1)\n",
            "Requirement already satisfied: idna>=2.8 in c:\\users\\hp\\appdata\\roaming\\python\\python311\\site-packages (from anyio<5,>=3.5.0->openai) (3.4)\n",
            "Requirement already satisfied: certifi in c:\\users\\hp\\appdata\\roaming\\python\\python311\\site-packages (from httpx<1,>=0.23.0->openai) (2022.12.7)\n",
            "Requirement already satisfied: httpcore==1.* in c:\\users\\hp\\anaconda3\\lib\\site-packages (from httpx<1,>=0.23.0->openai) (1.0.3)\n",
            "Requirement already satisfied: h11<0.15,>=0.13 in c:\\users\\hp\\anaconda3\\lib\\site-packages (from httpcore==1.*->httpx<1,>=0.23.0->openai) (0.14.0)\n",
            "Requirement already satisfied: colorama in c:\\users\\hp\\appdata\\roaming\\python\\python311\\site-packages (from tqdm>4->openai) (0.4.6)\n",
            "Note: you may need to restart the kernel to use updated packages.\n"
          ]
        },
        {
          "name": "stderr",
          "output_type": "stream",
          "text": [
            "\n",
            "[notice] A new release of pip is available: 23.3.1 -> 24.0\n",
            "[notice] To update, run: python.exe -m pip install --upgrade pip\n"
          ]
        }
      ],
      "source": [
        "pip install --upgrade openai"
      ]
    },
    {
      "cell_type": "code",
      "execution_count": 17,
      "metadata": {
        "id": "bJVkynVPy0B2"
      },
      "outputs": [],
      "source": [
        "from openai import OpenAI\n",
        "\n",
        "client = OpenAI(api_key = \"YOUR-API-KEY\")"
      ]
    },
    {
      "cell_type": "markdown",
      "metadata": {
        "id": "AYj-1W1_0Rw4"
      },
      "source": [
        "AI ASSISTANT WITH FILES"
      ]
    },
    {
      "cell_type": "code",
      "execution_count": 18,
      "metadata": {
        "id": "o76Qecmb9kBU"
      },
      "outputs": [],
      "source": [
        "files_to_upload = [\"Questions-Answers.pdf\", \"Supplement-Facts.pdf\"]\n",
        "file_ids = []"
      ]
    },
    {
      "cell_type": "code",
      "execution_count": 19,
      "metadata": {
        "id": "ZRYdVXOA9jwb"
      },
      "outputs": [],
      "source": [
        "# Upload each file and store the returned file IDs\n",
        "for file_name in files_to_upload:\n",
        "    with open(file_name, \"rb\") as file_data:\n",
        "        file_response = client.files.create(file=file_data, purpose='assistants')\n",
        "        file_ids.append(file_response.id)\n",
        "\n"
      ]
    },
    {
      "cell_type": "code",
      "execution_count": 20,
      "metadata": {
        "id": "FSKADLhR0VmX"
      },
      "outputs": [],
      "source": [
        "#file = client.files.create(\n",
        "    #file=open(\"Questions-Answers.pdf\", \"rb\"),\n",
        "    #purpose = \"assistants\"\n",
        "#)"
      ]
    },
    {
      "cell_type": "code",
      "execution_count": 21,
      "metadata": {
        "colab": {
          "base_uri": "https://localhost:8080/"
        },
        "id": "ieSyjmwe1KVI",
        "outputId": "2a168fb2-673b-4a62-9fca-4845404488c6"
      },
      "outputs": [],
      "source": [
        "#print(file)"
      ]
    },
    {
      "cell_type": "markdown",
      "metadata": {
        "id": "TOoFAmFH1OBQ"
      },
      "source": [
        "create assitant"
      ]
    },
    {
      "cell_type": "code",
      "execution_count": 22,
      "metadata": {
        "id": "Ix6coI471NEj"
      },
      "outputs": [],
      "source": [
        "assistant = client.beta.assistants.create(\n",
        "    name=\"Adviser Chatbot\",\n",
        "    instructions=\"Act as a adviser and give relative advice related to questions\",\n",
        "    tools=[{\"type\": \"code_interpreter\"}, {\"type\": \"retrieval\"}],\n",
        "    model=\"gpt-4-1106-preview\",\n",
        "    file_ids=file_ids\n",
        "    #file_ids = [\"file-QmF04MrwJdmBy4HEhHFMHICR\"]\n",
        ")"
      ]
    },
    {
      "cell_type": "code",
      "execution_count": 23,
      "metadata": {},
      "outputs": [],
      "source": [
        "#print(assistant)"
      ]
    },
    {
      "cell_type": "markdown",
      "metadata": {
        "id": "GJ35S3xY3DI9"
      },
      "source": [
        "Create Thread"
      ]
    },
    {
      "cell_type": "code",
      "execution_count": 24,
      "metadata": {
        "colab": {
          "base_uri": "https://localhost:8080/"
        },
        "id": "WwSMHjmE3CvR",
        "outputId": "ae6c2776-8f5e-457b-d347-f3e755c843ca"
      },
      "outputs": [
        {
          "name": "stdout",
          "output_type": "stream",
          "text": [
            "Thread(id='thread_ys2qZzIe17IJPbPqRhSWZjmi', created_at=1708432431, metadata={}, object='thread', tool_resources=[])\n"
          ]
        }
      ],
      "source": [
        "thread = client.beta.threads.create()\n",
        "print(thread)"
      ]
    },
    {
      "cell_type": "markdown",
      "metadata": {
        "id": "P9_1iNY83VGP"
      },
      "source": [
        "Create message"
      ]
    },
    {
      "cell_type": "code",
      "execution_count": 25,
      "metadata": {
        "id": "SUOFFixC3YR4"
      },
      "outputs": [],
      "source": [
        "message = client.beta.threads.messages.create(\n",
        "      thread_id=thread.id,\n",
        "      role=\"user\",\n",
        "      content=\"Q: What will happen after I join the AutoShip Program?\"\n",
        ")"
      ]
    },
    {
      "cell_type": "markdown",
      "metadata": {
        "id": "33EisrcE35Xi"
      },
      "source": [
        "run assistant"
      ]
    },
    {
      "cell_type": "code",
      "execution_count": 26,
      "metadata": {
        "id": "B2CFiDKH378b"
      },
      "outputs": [],
      "source": [
        "run = client.beta.threads.runs.create(\n",
        "        thread_id=thread.id,\n",
        "        assistant_id=assistant.id,\n",
        "    )"
      ]
    },
    {
      "cell_type": "code",
      "execution_count": 27,
      "metadata": {},
      "outputs": [],
      "source": [
        "import time\n",
        "\n",
        "def wait_on_run(run, thread):\n",
        "    while run.status == \"queued\" or run.status == \"in_progress\":\n",
        "        run = client.beta.threads.runs.retrieve(\n",
        "            thread_id=thread.id,\n",
        "            run_id=run.id,\n",
        "        )\n",
        "        time.sleep(0.5)\n",
        "    return run"
      ]
    },
    {
      "cell_type": "code",
      "execution_count": 28,
      "metadata": {},
      "outputs": [],
      "source": [
        "run = wait_on_run(run, thread)"
      ]
    },
    {
      "cell_type": "markdown",
      "metadata": {
        "id": "MGWlNW6L4k3J"
      },
      "source": [
        "Retrive messages"
      ]
    },
    {
      "cell_type": "code",
      "execution_count": 29,
      "metadata": {
        "id": "fOWilReX4emB"
      },
      "outputs": [],
      "source": [
        "messages = client.beta.threads.messages.list(\n",
        "        thread_id=thread.id,\n",
        ")"
      ]
    },
    {
      "cell_type": "code",
      "execution_count": 30,
      "metadata": {
        "colab": {
          "base_uri": "https://localhost:8080/"
        },
        "id": "di_T8B_75RHo",
        "outputId": "645d8218-fc07-4306-9d11-47407231dc25"
      },
      "outputs": [
        {
          "name": "stdout",
          "output_type": "stream",
          "text": [
            "user: Q: What will happen after I join the AutoShip Program?\n",
            "assistant: After you join the AutoShip Program, you will receive an email confirming your enrollment. This email will include a link to your AutoShip account where you can manage your orders. Your AutoShip orders will be placed automatically according to your selected frequency, and a reminder email will be sent before each order is placed. You have the ability to change your next order date, skip an order, and change your order frequency, subject to the AutoShip Terms and Conditions.\n",
            "\n",
            "Here is a breakdown of what you can expect and do after joining:\n",
            "\n",
            "1. **Manage Orders**: You can change an order date, skip a delivery, modify the order frequency, or cancel the AutoShip enrollment through the \"AutoShip\" tab within your account.\n",
            "2. **Account Information**: To review or modify your AutoShip account information, visit the \"AutoShip\" section in your account.\n",
            "3. **Shipping Address**: You can change your shipping address for orders by clicking the \"Change Shipping Address\" button in the AutoShip section of your account.\n",
            "4. **Future Orders**: You can view all future orders in the \"AutoShip\" tab on your account page.\n",
            "5. **Combining Items**: AutoShip items with the same order date, shipping address, billing address, and payment method will ship as one order.\n",
            "6. **Adding Items**: You have the option to add other eligible items to your next AutoShip order.\n",
            "7. **Payment**: All AutoShip orders require a credit or debit card payment, while alternate payment forms like PayPal and gift cards cannot be used for AutoShip orders.\n",
            "\n",
            "Please note that changes to an order must be made at least 24 hours prior to the order's placement date, and they can affect the order frequency based on the new shipping date selected. Also, allow up to 24 hours for any changes to be processed. If you decide to cancel AutoShip, your enrollment will be canceled except for orders placed within the 24 hours from your cancellation date, and you will receive an email notification confirming your cancellation【11†source】.\n"
          ]
        }
      ],
      "source": [
        "for message in reversed(messages.data):\n",
        "  print(message.role + \": \" + message.content[0].text.value)"
      ]
    }
  ],
  "metadata": {
    "colab": {
      "provenance": []
    },
    "kernelspec": {
      "display_name": "Python 3",
      "name": "python3"
    },
    "language_info": {
      "codemirror_mode": {
        "name": "ipython",
        "version": 3
      },
      "file_extension": ".py",
      "mimetype": "text/x-python",
      "name": "python",
      "nbconvert_exporter": "python",
      "pygments_lexer": "ipython3",
      "version": "3.11.5"
    }
  },
  "nbformat": 4,
  "nbformat_minor": 0
}
